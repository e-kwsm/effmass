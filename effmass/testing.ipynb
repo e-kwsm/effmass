{
 "cells": [
  {
   "cell_type": "code",
   "execution_count": 2,
   "metadata": {},
   "outputs": [],
   "source": [
    "# plots displayed within notebook\n",
    "%matplotlib inline\n",
    "\n",
    "# import scientific libraries\n",
    "import math\n",
    "import matplotlib.pyplot as plt\n",
    "import numpy as np\n",
    "\n",
    "# import modules from the effmass package\n",
    "from effmass import inputs, analysis, extrema, outputs, dos, ev_to_hartree"
   ]
  },
  {
   "cell_type": "code",
   "execution_count": 147,
   "metadata": {},
   "outputs": [
    {
     "data": {
      "text/plain": [
       "<module 'effmass.extrema' from '/Users/mynf8/Repos/effmass/effmass/extrema.py'>"
      ]
     },
     "execution_count": 147,
     "metadata": {},
     "output_type": "execute_result"
    }
   ],
   "source": [
    "import importlib\n",
    "importlib.reload(inputs)\n",
    "importlib.reload(extrema)"
   ]
  },
  {
   "cell_type": "code",
   "execution_count": 165,
   "metadata": {},
   "outputs": [
    {
     "name": "stdout",
     "output_type": "stream",
     "text": [
      "`frontier_bands_only` is set to True and will override the value of `extrema_search_depth`\n"
     ]
    }
   ],
   "source": [
    "settings = inputs.Settings(extrema_search_depth=0.075, energy_range=0.25, direction=[1.0,1.0,1.0],frontier_bands_only=True)"
   ]
  },
  {
   "cell_type": "code",
   "execution_count": 166,
   "metadata": {},
   "outputs": [],
   "source": [
    "segments = extrema.generate_segments(settings,data)"
   ]
  },
  {
   "cell_type": "code",
   "execution_count": 167,
   "metadata": {},
   "outputs": [
    {
     "name": "stdout",
     "output_type": "stream",
     "text": [
      "17 [[0.         0.         0.        ]\n",
      " [0.00684932 0.00684932 0.00684932]\n",
      " [0.01369863 0.01369863 0.01369863]\n",
      " [0.02054794 0.02054794 0.02054794]\n",
      " [0.02739726 0.02739726 0.02739726]\n",
      " [0.03424658 0.03424658 0.03424658]\n",
      " [0.04109589 0.04109589 0.04109589]\n",
      " [0.04794521 0.04794521 0.04794521]\n",
      " [0.05479452 0.05479452 0.05479452]\n",
      " [0.06164383 0.06164383 0.06164383]\n",
      " [0.06849315 0.06849315 0.06849315]\n",
      " [0.07534247 0.07534247 0.07534247]\n",
      " [0.08219177 0.08219177 0.08219177]\n",
      " [0.08904109 0.08904109 0.08904109]\n",
      " [0.09589041 0.09589041 0.09589041]\n",
      " [0.10273972 0.10273972 0.10273972]\n",
      " [0.10958904 0.10958904 0.10958904]\n",
      " [0.11643835 0.11643835 0.11643835]\n",
      " [0.12328766 0.12328766 0.12328766]\n",
      " [0.13013698 0.13013698 0.13013698]\n",
      " [0.1369863  0.1369863  0.1369863 ]\n",
      " [0.1438356  0.1438356  0.1438356 ]\n",
      " [0.15068494 0.15068494 0.15068494]\n",
      " [0.15753424 0.15753424 0.15753424]\n",
      " [0.16438355 0.16438355 0.16438355]] valence_band\n",
      "18 [[0.         0.         0.        ]\n",
      " [0.00684932 0.00684932 0.00684932]\n",
      " [0.01369863 0.01369863 0.01369863]\n",
      " [0.02054794 0.02054794 0.02054794]\n",
      " [0.02739726 0.02739726 0.02739726]\n",
      " [0.03424658 0.03424658 0.03424658]\n",
      " [0.04109589 0.04109589 0.04109589]\n",
      " [0.04794521 0.04794521 0.04794521]] conduction_band\n"
     ]
    }
   ],
   "source": [
    "for segment in segments:\n",
    "    print(segment.band, segment.kpoints,segment.band_type)"
   ]
  },
  {
   "cell_type": "code",
   "execution_count": 161,
   "metadata": {},
   "outputs": [],
   "source": [
    "data = inputs.DataVasp(\"./paper/data/CdTe/HSE06_SoC/OUTCAR\",\"./paper/data/CdTe/HSE06_SoC/PROCAR\", ignore=216)"
   ]
  },
  {
   "cell_type": "code",
   "execution_count": 162,
   "metadata": {},
   "outputs": [],
   "source": [
    "segments = extrema.generate_segments(settings,data)"
   ]
  },
  {
   "cell_type": "code",
   "execution_count": 169,
   "metadata": {},
   "outputs": [
    {
     "name": "stdout",
     "output_type": "stream",
     "text": [
      "`frontier_bands_only` is set to True and will override the value of `extrema_search_depth`\n",
      "17 [0. 0. 0.] valence_band 2.11853863\n",
      "18 [0. 0. 0.] conduction_band 3.37511289\n"
     ]
    }
   ],
   "source": [
    "settings = inputs.Settings(extrema_search_depth=0.075, energy_range=0.25, direction=[1.0,1.0,1.0],frontier_bands_only=True)\n",
    "segments = extrema.generate_segments(settings,data)\n",
    "for segment in segments:\n",
    "    print(segment.band, segment.kpoints[0],segment.band_type, segment.energies[0])"
   ]
  },
  {
   "cell_type": "code",
   "execution_count": 170,
   "metadata": {},
   "outputs": [
    {
     "name": "stdout",
     "output_type": "stream",
     "text": [
      "14 [0. 0. 0.] valence_band 2.11829956\n",
      "15 [0. 0. 0.] valence_band 2.1183797\n",
      "16 [0. 0. 0.] valence_band 2.1184601\n",
      "17 [0. 0. 0.] valence_band 2.11853863\n",
      "18 [0. 0. 0.] conduction_band 3.37511289\n",
      "19 [0. 0. 0.] conduction_band 3.37533103\n"
     ]
    }
   ],
   "source": [
    "settings = inputs.Settings(extrema_search_depth=0.075, energy_range=0.25, direction=[1.0,1.0,1.0],frontier_bands_only=False)\n",
    "segments = extrema.generate_segments(settings,data)\n",
    "for segment in segments:\n",
    "    print(segment.band, segment.kpoints[0],segment.band_type, segment.energies[0])"
   ]
  },
  {
   "cell_type": "code",
   "execution_count": 13,
   "metadata": {},
   "outputs": [
    {
     "data": {
      "text/plain": [
       "19"
      ]
     },
     "execution_count": 13,
     "metadata": {},
     "output_type": "execute_result"
    }
   ],
   "source": [
    "segments[-1].band"
   ]
  },
  {
   "cell_type": "code",
   "execution_count": null,
   "metadata": {},
   "outputs": [],
   "source": [
    "print(3)"
   ]
  },
  {
   "cell_type": "code",
   "execution_count": 120,
   "metadata": {},
   "outputs": [
    {
     "data": {
      "text/plain": [
       "array([[[17, 0],\n",
       "        [17, 175]],\n",
       "\n",
       "       [[18, 0],\n",
       "        [18, 175]]], dtype=object)"
      ]
     },
     "execution_count": 120,
     "metadata": {},
     "output_type": "execute_result"
    }
   ],
   "source": [
    "extrema.find_extrema_indices(data, settings)"
   ]
  },
  {
   "cell_type": "code",
   "execution_count": 116,
   "metadata": {},
   "outputs": [],
   "source": [
    "settings.frontier_bands_only = True"
   ]
  },
  {
   "cell_type": "code",
   "execution_count": 124,
   "metadata": {},
   "outputs": [
    {
     "data": {
      "text/plain": [
       "array([[[17, 0],\n",
       "        [17, 175]],\n",
       "\n",
       "       [[18, 0],\n",
       "        [18, 175]]], dtype=object)"
      ]
     },
     "execution_count": 124,
     "metadata": {},
     "output_type": "execute_result"
    }
   ],
   "source": [
    "extrema.find_extrema_indices(data, settings)"
   ]
  },
  {
   "cell_type": "code",
   "execution_count": 118,
   "metadata": {},
   "outputs": [
    {
     "data": {
      "text/plain": [
       "array([[ 18,   0],\n",
       "       [ 18, 175],\n",
       "       [ 19,   0],\n",
       "       [ 19, 175]])"
      ]
     },
     "execution_count": 118,
     "metadata": {},
     "output_type": "execute_result"
    }
   ],
   "source": [
    "extrema.get_minimum_indices(data, settings.extrema_search_depth)"
   ]
  },
  {
   "cell_type": "code",
   "execution_count": 61,
   "metadata": {},
   "outputs": [
    {
     "data": {
      "text/plain": [
       "array([0, 0])"
      ]
     },
     "execution_count": 61,
     "metadata": {},
     "output_type": "execute_result"
    }
   ],
   "source": [
    "CB_min_indices = extrema.get_minimum_indices(data, settings.extrema_search_depth)\n",
    "np.argmin(CB_min_indices, 0)"
   ]
  },
  {
   "cell_type": "code",
   "execution_count": 104,
   "metadata": {},
   "outputs": [
    {
     "data": {
      "text/plain": [
       "2.11853863"
      ]
     },
     "execution_count": 104,
     "metadata": {},
     "output_type": "execute_result"
    }
   ],
   "source": [
    "data.energies[17,0]"
   ]
  },
  {
   "cell_type": "code",
   "execution_count": 105,
   "metadata": {},
   "outputs": [
    {
     "data": {
      "text/plain": [
       "2.1184601"
      ]
     },
     "execution_count": 105,
     "metadata": {},
     "output_type": "execute_result"
    }
   ],
   "source": [
    "data.energies[16,0]"
   ]
  },
  {
   "cell_type": "code",
   "execution_count": 72,
   "metadata": {},
   "outputs": [
    {
     "data": {
      "text/plain": [
       "array([18, 18, 19, 19])"
      ]
     },
     "execution_count": 72,
     "metadata": {},
     "output_type": "execute_result"
    }
   ],
   "source": [
    "CB_min_indices[:,0]"
   ]
  },
  {
   "cell_type": "code",
   "execution_count": 73,
   "metadata": {},
   "outputs": [
    {
     "data": {
      "text/plain": [
       "array([0, 1])"
      ]
     },
     "execution_count": 73,
     "metadata": {},
     "output_type": "execute_result"
    }
   ],
   "source": [
    "np.where(CB_min_indices[:,0] == CB_min_indices[:,0].min())[0]"
   ]
  },
  {
   "cell_type": "code",
   "execution_count": 75,
   "metadata": {},
   "outputs": [],
   "source": [
    "frontier_index = np.where(CB_min_indices[:,0] == CB_min_indices[:,0].min())[0]\n",
    "frontier_indices = CB_min_indices[frontier_index]"
   ]
  },
  {
   "cell_type": "code",
   "execution_count": 77,
   "metadata": {},
   "outputs": [
    {
     "name": "stdout",
     "output_type": "stream",
     "text": [
      "18 0\n",
      "18 175\n"
     ]
    }
   ],
   "source": [
    "for x,y in frontier_indices:\n",
    "    print(x,y)"
   ]
  },
  {
   "cell_type": "code",
   "execution_count": 82,
   "metadata": {},
   "outputs": [
    {
     "name": "stdout",
     "output_type": "stream",
     "text": [
      "\u001b[0;31mSignature:\u001b[0m \u001b[0mnp\u001b[0m\u001b[0;34m.\u001b[0m\u001b[0mappend\u001b[0m\u001b[0;34m(\u001b[0m\u001b[0marr\u001b[0m\u001b[0;34m,\u001b[0m \u001b[0mvalues\u001b[0m\u001b[0;34m,\u001b[0m \u001b[0maxis\u001b[0m\u001b[0;34m=\u001b[0m\u001b[0;32mNone\u001b[0m\u001b[0;34m)\u001b[0m\u001b[0;34m\u001b[0m\u001b[0;34m\u001b[0m\u001b[0m\n",
      "\u001b[0;31mDocstring:\u001b[0m\n",
      "Append values to the end of an array.\n",
      "\n",
      "Parameters\n",
      "----------\n",
      "arr : array_like\n",
      "    Values are appended to a copy of this array.\n",
      "values : array_like\n",
      "    These values are appended to a copy of `arr`.  It must be of the\n",
      "    correct shape (the same shape as `arr`, excluding `axis`).  If\n",
      "    `axis` is not specified, `values` can be any shape and will be\n",
      "    flattened before use.\n",
      "axis : int, optional\n",
      "    The axis along which `values` are appended.  If `axis` is not\n",
      "    given, both `arr` and `values` are flattened before use.\n",
      "\n",
      "Returns\n",
      "-------\n",
      "append : ndarray\n",
      "    A copy of `arr` with `values` appended to `axis`.  Note that\n",
      "    `append` does not occur in-place: a new array is allocated and\n",
      "    filled.  If `axis` is None, `out` is a flattened array.\n",
      "\n",
      "See Also\n",
      "--------\n",
      "insert : Insert elements into an array.\n",
      "delete : Delete elements from an array.\n",
      "\n",
      "Examples\n",
      "--------\n",
      ">>> np.append([1, 2, 3], [[4, 5, 6], [7, 8, 9]])\n",
      "array([1, 2, 3, ..., 7, 8, 9])\n",
      "\n",
      "When `axis` is specified, `values` must have the correct shape.\n",
      "\n",
      ">>> np.append([[1, 2, 3], [4, 5, 6]], [[7, 8, 9]], axis=0)\n",
      "array([[1, 2, 3],\n",
      "       [4, 5, 6],\n",
      "       [7, 8, 9]])\n",
      ">>> np.append([[1, 2, 3], [4, 5, 6]], [7, 8, 9], axis=0)\n",
      "Traceback (most recent call last):\n",
      "    ...\n",
      "ValueError: all the input arrays must have same number of dimensions, but\n",
      "the array at index 0 has 2 dimension(s) and the array at index 1 has 1\n",
      "dimension(s)\n",
      "\u001b[0;31mFile:\u001b[0m      ~/Repos/effmass/.conda/lib/python3.10/site-packages/numpy/lib/function_base.py\n",
      "\u001b[0;31mType:\u001b[0m      function"
     ]
    }
   ],
   "source": [
    "np.append?"
   ]
  },
  {
   "cell_type": "code",
   "execution_count": 85,
   "metadata": {},
   "outputs": [
    {
     "data": {
      "text/plain": [
       "array([4, 5, 2, 3, 2, 4])"
      ]
     },
     "execution_count": 85,
     "metadata": {},
     "output_type": "execute_result"
    }
   ],
   "source": [
    "np.append([[4,5],[2,3]],[[2,4]])"
   ]
  },
  {
   "cell_type": "code",
   "execution_count": 86,
   "metadata": {},
   "outputs": [
    {
     "data": {
      "text/plain": [
       "array([[3, 4]])"
      ]
     },
     "execution_count": 86,
     "metadata": {},
     "output_type": "execute_result"
    }
   ],
   "source": [
    "np.array([[3,4]])"
   ]
  },
  {
   "cell_type": "code",
   "execution_count": 60,
   "metadata": {},
   "outputs": [
    {
     "data": {
      "text/plain": [
       "array([18,  0])"
      ]
     },
     "execution_count": 60,
     "metadata": {},
     "output_type": "execute_result"
    }
   ],
   "source": [
    "extrema.get_frontier_CB_indices(data, extrema.get_minimum_indices(data, settings.extrema_search_depth))"
   ]
  },
  {
   "cell_type": "code",
   "execution_count": 22,
   "metadata": {},
   "outputs": [],
   "source": [
    "segments = extrema.generate_segments(settings,data)"
   ]
  },
  {
   "cell_type": "code",
   "execution_count": 25,
   "metadata": {},
   "outputs": [
    {
     "data": {
      "text/plain": [
       "array([2.11829956, 2.10875732, 2.08120398, 2.03951663, 1.98610608,\n",
       "       1.924983  ])"
      ]
     },
     "execution_count": 25,
     "metadata": {},
     "output_type": "execute_result"
    }
   ],
   "source": [
    "segments[0].energies"
   ]
  },
  {
   "cell_type": "code",
   "execution_count": 26,
   "metadata": {},
   "outputs": [
    {
     "data": {
      "text/plain": [
       "array([2.11829956, 2.11115152, 2.09039333, 2.05762837, 2.01611847,\n",
       "       1.96659111, 1.91200359])"
      ]
     },
     "execution_count": 26,
     "metadata": {},
     "output_type": "execute_result"
    }
   ],
   "source": [
    "segments[1].energies"
   ]
  },
  {
   "cell_type": "code",
   "execution_count": 27,
   "metadata": {},
   "outputs": [
    {
     "data": {
      "text/plain": [
       "array([2.11829956, 2.11299392, 2.09732464, 2.07239457, 2.04053271,\n",
       "       2.00215859, 1.95952402, 1.91425863])"
      ]
     },
     "execution_count": 27,
     "metadata": {},
     "output_type": "execute_result"
    }
   ],
   "source": [
    "segments[2].energies"
   ]
  },
  {
   "cell_type": "code",
   "execution_count": 28,
   "metadata": {},
   "outputs": [
    {
     "data": {
      "text/plain": [
       "array([2.11837971, 2.10888987, 2.08132556, 2.03961656, 1.9861561 ,\n",
       "       1.92498546])"
      ]
     },
     "execution_count": 28,
     "metadata": {},
     "output_type": "execute_result"
    }
   ],
   "source": [
    "segments[3].energies"
   ]
  },
  {
   "cell_type": "code",
   "execution_count": 29,
   "metadata": {},
   "outputs": [],
   "source": [
    "CB_args = extrema.get_minimum_indices(data, settings.extrema_search_depth)"
   ]
  },
  {
   "cell_type": "code",
   "execution_count": 31,
   "metadata": {},
   "outputs": [],
   "source": [
    "min_band_indices = np.argmin(CB_args, 0)[0]"
   ]
  },
  {
   "cell_type": "code",
   "execution_count": 32,
   "metadata": {},
   "outputs": [
    {
     "data": {
      "text/plain": [
       "0"
      ]
     },
     "execution_count": 32,
     "metadata": {},
     "output_type": "execute_result"
    }
   ],
   "source": [
    "min_band_indices"
   ]
  },
  {
   "cell_type": "code",
   "execution_count": 33,
   "metadata": {},
   "outputs": [
    {
     "data": {
      "text/plain": [
       "array([0, 0])"
      ]
     },
     "execution_count": 33,
     "metadata": {},
     "output_type": "execute_result"
    }
   ],
   "source": [
    "np.argmin(CB_args, 0)"
   ]
  },
  {
   "cell_type": "code",
   "execution_count": 35,
   "metadata": {},
   "outputs": [
    {
     "data": {
      "text/plain": [
       "14"
      ]
     },
     "execution_count": 35,
     "metadata": {},
     "output_type": "execute_result"
    }
   ],
   "source": [
    "segments[0].band"
   ]
  },
  {
   "cell_type": "code",
   "execution_count": 36,
   "metadata": {},
   "outputs": [
    {
     "data": {
      "text/plain": [
       "14"
      ]
     },
     "execution_count": 36,
     "metadata": {},
     "output_type": "execute_result"
    }
   ],
   "source": [
    "segments[1].band"
   ]
  },
  {
   "cell_type": "code",
   "execution_count": 37,
   "metadata": {},
   "outputs": [
    {
     "data": {
      "text/plain": [
       "14"
      ]
     },
     "execution_count": 37,
     "metadata": {},
     "output_type": "execute_result"
    }
   ],
   "source": [
    "segments[2].band"
   ]
  },
  {
   "cell_type": "code",
   "execution_count": 38,
   "metadata": {},
   "outputs": [
    {
     "data": {
      "text/plain": [
       "15"
      ]
     },
     "execution_count": 38,
     "metadata": {},
     "output_type": "execute_result"
    }
   ],
   "source": [
    "segments[3].band"
   ]
  },
  {
   "cell_type": "code",
   "execution_count": 39,
   "metadata": {},
   "outputs": [],
   "source": [
    "extrema_array_3d = extrema.find_extrema_indices(data, settings)\n",
    "extrema_array = np.concatenate((extrema_array_3d[0],extrema_array_3d[1]))"
   ]
  },
  {
   "cell_type": "code",
   "execution_count": 40,
   "metadata": {},
   "outputs": [
    {
     "data": {
      "text/plain": [
       "array([[ 14,   0],\n",
       "       [ 14, 175],\n",
       "       [ 15,   0],\n",
       "       [ 15, 175],\n",
       "       [ 16,   0],\n",
       "       [ 16, 175],\n",
       "       [ 17,   0],\n",
       "       [ 17, 175],\n",
       "       [ 18,   0],\n",
       "       [ 18, 175],\n",
       "       [ 19,   0],\n",
       "       [ 19, 175]])"
      ]
     },
     "execution_count": 40,
     "metadata": {},
     "output_type": "execute_result"
    }
   ],
   "source": [
    "extrema_array"
   ]
  },
  {
   "cell_type": "code",
   "execution_count": 42,
   "metadata": {},
   "outputs": [],
   "source": [
    "kpoints_list = []\n",
    "band_list = []\n",
    "for band, kpoint in extrema_array: # flattened CB and VB arrays to a single array\n",
    "    kpoints_before = extrema.get_kpoints_before(\n",
    "        band,\n",
    "        kpoint,\n",
    "        settings,\n",
    "        data,\n",
    "        truncate_dir_change=True)\n",
    "    kpoints_after = extrema.get_kpoints_after(\n",
    "        band,\n",
    "        kpoint,\n",
    "        settings,\n",
    "        data,\n",
    "        truncate_dir_change=True)\n",
    "    if kpoints_before:\n",
    "        kpoints_list.append(kpoints_before)\n",
    "        band_list.append(band)\n",
    "    if kpoints_after:\n",
    "        kpoints_list.append(kpoints_after)\n",
    "        band_list.append(band)\n",
    "#segments = [\n",
    "#    analysis.Segment(data, band, kpoints)\n",
    "#    for band, kpoints in zip(band_list, kpoints_list)\n",
    "#]"
   ]
  },
  {
   "cell_type": "code",
   "execution_count": 49,
   "metadata": {},
   "outputs": [
    {
     "data": {
      "text/plain": [
       "18"
      ]
     },
     "execution_count": 49,
     "metadata": {},
     "output_type": "execute_result"
    }
   ],
   "source": [
    "len(band_list)"
   ]
  },
  {
   "cell_type": "code",
   "execution_count": 46,
   "metadata": {},
   "outputs": [
    {
     "data": {
      "text/plain": [
       "[[0, 1, 2, 3, 4, 5],\n",
       " [175, 174, 173, 172, 171, 170, 169],\n",
       " [175, 176, 177, 178, 179, 180, 181, 182],\n",
       " [0, 1, 2, 3, 4, 5],\n",
       " [175, 174, 173, 172, 171, 170, 169, 168],\n",
       " [175, 176, 177, 178, 179, 180, 181, 182],\n",
       " [0, 1, 2, 3, 4, 5, 6, 7, 8, 9, 10],\n",
       " [175,\n",
       "  174,\n",
       "  173,\n",
       "  172,\n",
       "  171,\n",
       "  170,\n",
       "  169,\n",
       "  168,\n",
       "  167,\n",
       "  166,\n",
       "  165,\n",
       "  164,\n",
       "  163,\n",
       "  162,\n",
       "  161,\n",
       "  160,\n",
       "  159,\n",
       "  158,\n",
       "  157],\n",
       " [175,\n",
       "  176,\n",
       "  177,\n",
       "  178,\n",
       "  179,\n",
       "  180,\n",
       "  181,\n",
       "  182,\n",
       "  183,\n",
       "  184,\n",
       "  185,\n",
       "  186,\n",
       "  187,\n",
       "  188,\n",
       "  189,\n",
       "  190,\n",
       "  191,\n",
       "  192,\n",
       "  193,\n",
       "  194,\n",
       "  195,\n",
       "  196,\n",
       "  197,\n",
       "  198],\n",
       " [0, 1, 2, 3, 4, 5, 6, 7, 8, 9, 10],\n",
       " [175,\n",
       "  174,\n",
       "  173,\n",
       "  172,\n",
       "  171,\n",
       "  170,\n",
       "  169,\n",
       "  168,\n",
       "  167,\n",
       "  166,\n",
       "  165,\n",
       "  164,\n",
       "  163,\n",
       "  162,\n",
       "  161,\n",
       "  160,\n",
       "  159,\n",
       "  158,\n",
       "  157,\n",
       "  156],\n",
       " [175,\n",
       "  176,\n",
       "  177,\n",
       "  178,\n",
       "  179,\n",
       "  180,\n",
       "  181,\n",
       "  182,\n",
       "  183,\n",
       "  184,\n",
       "  185,\n",
       "  186,\n",
       "  187,\n",
       "  188,\n",
       "  189,\n",
       "  190,\n",
       "  191,\n",
       "  192,\n",
       "  193,\n",
       "  194,\n",
       "  195,\n",
       "  196,\n",
       "  197,\n",
       "  198,\n",
       "  199],\n",
       " [0, 1, 2, 3, 4, 5],\n",
       " [175, 174, 173, 172, 171, 170, 169],\n",
       " [175, 176, 177, 178, 179, 180, 181, 182],\n",
       " [0, 1, 2, 3, 4, 5],\n",
       " [175, 174, 173, 172, 171, 170, 169],\n",
       " [175, 176, 177, 178, 179, 180, 181, 182]]"
      ]
     },
     "execution_count": 46,
     "metadata": {},
     "output_type": "execute_result"
    }
   ],
   "source": [
    "kpoints_list"
   ]
  },
  {
   "cell_type": "code",
   "execution_count": 51,
   "metadata": {},
   "outputs": [
    {
     "data": {
      "text/plain": [
       "18"
      ]
     },
     "execution_count": 51,
     "metadata": {},
     "output_type": "execute_result"
    }
   ],
   "source": [
    "len(segments)"
   ]
  },
  {
   "cell_type": "code",
   "execution_count": null,
   "metadata": {},
   "outputs": [],
   "source": []
  }
 ],
 "metadata": {
  "kernelspec": {
   "display_name": "Python 3",
   "language": "python",
   "name": "python3"
  },
  "language_info": {
   "codemirror_mode": {
    "name": "ipython",
    "version": 3
   },
   "file_extension": ".py",
   "mimetype": "text/x-python",
   "name": "python",
   "nbconvert_exporter": "python",
   "pygments_lexer": "ipython3",
   "version": "3.10.11"
  },
  "orig_nbformat": 4
 },
 "nbformat": 4,
 "nbformat_minor": 2
}
